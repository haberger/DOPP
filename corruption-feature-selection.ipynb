{
 "cells": [
  {
   "cell_type": "code",
   "execution_count": null,
   "metadata": {},
   "outputs": [],
   "source": [
    "import pandas as pd\n",
    "import numpy as np\n",
    "import seaborn as sns\n",
    "import matplotlib.pyplot as plt\n",
    "\n",
    "from data_cleanup import *"
   ]
  },
  {
   "cell_type": "code",
   "execution_count": null,
   "metadata": {},
   "outputs": [],
   "source": [
    "from sklearn.model_selection import train_test_split\n",
    "from sklearn.feature_selection import SelectKBest\n",
    "from sklearn.feature_selection import f_regression"
   ]
  },
  {
   "cell_type": "code",
   "execution_count": null,
   "metadata": {},
   "outputs": [],
   "source": [
    "df = load_reduced_df()"
   ]
  },
  {
   "cell_type": "code",
   "execution_count": null,
   "metadata": {},
   "outputs": [],
   "source": [
    "target_col = 'bci_bci' # 'wbgi_cce'"
   ]
  },
  {
   "cell_type": "code",
   "execution_count": null,
   "metadata": {},
   "outputs": [],
   "source": [
    "df"
   ]
  },
  {
   "cell_type": "markdown",
   "metadata": {},
   "source": [
    "- group by country\n",
    "- divide in train and test datasets\n",
    "- check that each contry has enough points\n",
    "- check how regions are balanced\n",
    "- 2 versions: all cols and cols without nulls\n",
    "- run feature selection on all cols and cols wout nulls\n",
    "- run a simple model ? check how feature selection performs?\n",
    "- check for highly correlated cols in feat selection?"
   ]
  },
  {
   "cell_type": "markdown",
   "metadata": {},
   "source": [
    "### Check that each country has enough points"
   ]
  },
  {
   "cell_type": "code",
   "execution_count": null,
   "metadata": {},
   "outputs": [],
   "source": [
    "df.groupby('cname').year.nunique().agg(['mean', 'min', 'max'])"
   ]
  },
  {
   "cell_type": "code",
   "execution_count": null,
   "metadata": {},
   "outputs": [],
   "source": [
    "df.groupby('cname').year.nunique()[df.groupby('cname').year.nunique() < 5]"
   ]
  },
  {
   "cell_type": "code",
   "execution_count": null,
   "metadata": {},
   "outputs": [],
   "source": [
    "df[df.cname == 'Fiji']"
   ]
  },
  {
   "cell_type": "markdown",
   "metadata": {},
   "source": [
    "### Check how regions are balanced"
   ]
  },
  {
   "cell_type": "code",
   "execution_count": null,
   "metadata": {},
   "outputs": [],
   "source": [
    "region_count = pd.DataFrame(df.groupby('sub-region').cname.count()).reset_index(drop=False)\n",
    "region_count.columns = ['sub-region', 'num of samples']\n",
    "\n",
    "region_country_count = pd.DataFrame(df.groupby('sub-region').cname.nunique()).reset_index(drop=False)\n",
    "region_country_count.columns = ['sub-region', 'num of countries']\n",
    "\n",
    "region_info_df = region_count.merge(region_country_count, on='sub-region')\n",
    "region_info_df = region_info_df.melt(id_vars=['sub-region'], value_vars=['num of samples', 'num of countries'])"
   ]
  },
  {
   "cell_type": "code",
   "execution_count": null,
   "metadata": {},
   "outputs": [],
   "source": [
    "_, ax = plt.subplots(1, 2, figsize=(40, 10))\n",
    "sns.barplot(data=region_count, y='sub-region', x='num of samples', color='#567ab8', ax=ax[0])\n",
    "ax[0].set_title('Regions by number of points')\n",
    "sns.barplot(data=region_country_count, y='sub-region', x='num of countries', color='#567ab8', ax=ax[1])\n",
    "ax[1].set_title('Regions by number of countries')"
   ]
  },
  {
   "cell_type": "markdown",
   "metadata": {},
   "source": [
    "### Create test and train datasets"
   ]
  },
  {
   "cell_type": "markdown",
   "metadata": {},
   "source": [
    "These columns contain dates and are not valid features, hence they are dropped"
   ]
  },
  {
   "cell_type": "code",
   "execution_count": null,
   "metadata": {},
   "outputs": [],
   "source": [
    "date_columns = [c for c in df.columns if 'date' in c]\n",
    "df = df.drop(date_columns, axis=1)"
   ]
  },
  {
   "cell_type": "code",
   "execution_count": null,
   "metadata": {},
   "outputs": [],
   "source": [
    "random_state = 424242"
   ]
  },
  {
   "cell_type": "code",
   "execution_count": null,
   "metadata": {},
   "outputs": [],
   "source": [
    "country_data = pd.DataFrame(df.groupby('cname')['sub-region'].min())\n",
    "country_data = country_data.reset_index(drop=False)"
   ]
  },
  {
   "cell_type": "code",
   "execution_count": null,
   "metadata": {},
   "outputs": [],
   "source": [
    "country_data"
   ]
  },
  {
   "cell_type": "markdown",
   "metadata": {},
   "source": [
    "Stratify by region, so that each region is in a train and test dataset"
   ]
  },
  {
   "cell_type": "code",
   "execution_count": null,
   "metadata": {},
   "outputs": [],
   "source": [
    "X_train, X_test, y_train, y_test = train_test_split(country_data, country_data['cname'], test_size=0.2, random_state=random_state, stratify=country_data['sub-region'])"
   ]
  },
  {
   "cell_type": "code",
   "execution_count": null,
   "metadata": {},
   "outputs": [],
   "source": [
    "X_train.groupby('sub-region').cname.nunique()"
   ]
  },
  {
   "cell_type": "code",
   "execution_count": null,
   "metadata": {},
   "outputs": [],
   "source": [
    "X_test.groupby('sub-region').cname.nunique()"
   ]
  },
  {
   "cell_type": "markdown",
   "metadata": {},
   "source": [
    "Check that each country is either in train or test dataset"
   ]
  },
  {
   "cell_type": "code",
   "execution_count": null,
   "metadata": {},
   "outputs": [],
   "source": [
    "set(X_train.cname.unique()).intersection(X_test.cname.unique())"
   ]
  },
  {
   "cell_type": "code",
   "execution_count": null,
   "metadata": {},
   "outputs": [],
   "source": [
    "feat_col_start_full = 10\n",
    "feat_col_start_reduced = 9"
   ]
  },
  {
   "cell_type": "code",
   "execution_count": null,
   "metadata": {},
   "outputs": [],
   "source": [
    "df_cols_reduced = df.dropna(how='any', axis=1)"
   ]
  },
  {
   "cell_type": "code",
   "execution_count": null,
   "metadata": {},
   "outputs": [],
   "source": [
    "corr_cols = ['bci_bci', 'ti_cpi', 'vdem_corr', 'vdem_execorr', 'vdem_jucorrdc', 'vdem_pubcorr', 'wbgi_cce']\n",
    "feats_cols = [c for c in df.columns[feat_col_start_full:-2] if c not in corr_cols]\n",
    "feats_cols_reduced = [c for c in df_cols_reduced.columns[feat_col_start_reduced:-2] if c not in corr_cols]"
   ]
  },
  {
   "cell_type": "code",
   "execution_count": null,
   "metadata": {},
   "outputs": [],
   "source": [
    "def divide_into_test_train(df, target, feats_cols, corr_column=target_col):\n",
    "    x = df.copy()\n",
    "    x = x[x.cname.isin(target)]\n",
    "    y = x.loc[:, corr_column]\n",
    "    x = x.loc[:, feats_cols]\n",
    "    return x, y"
   ]
  },
  {
   "cell_type": "code",
   "execution_count": null,
   "metadata": {},
   "outputs": [],
   "source": [
    "x_train_full, y_train_full = divide_into_test_train(df, y_train, feats_cols, corr_column=target_col)\n",
    "x_test_full, y_test_full = divide_into_test_train(df, y_test, feats_cols, corr_column=target_col)"
   ]
  },
  {
   "cell_type": "code",
   "execution_count": null,
   "metadata": {},
   "outputs": [],
   "source": [
    "x_train_reduced, y_train_reduced = divide_into_test_train(df_cols_reduced, y_train, feats_cols_reduced, corr_column=target_col)\n",
    "x_test_reduced, y_test_reduced = divide_into_test_train(df_cols_reduced, y_test, feats_cols_reduced, corr_column=target_col)"
   ]
  },
  {
   "cell_type": "markdown",
   "metadata": {},
   "source": [
    "### Feature selection"
   ]
  },
  {
   "cell_type": "markdown",
   "metadata": {},
   "source": [
    "Running feature selection only on reduced (NaNs dropped) df bc feature selection method cannot handle the NaNs"
   ]
  },
  {
   "cell_type": "code",
   "execution_count": null,
   "metadata": {},
   "outputs": [],
   "source": [
    "k = 20"
   ]
  },
  {
   "cell_type": "code",
   "execution_count": null,
   "metadata": {},
   "outputs": [],
   "source": [
    "feat_selector = SelectKBest(f_regression, k=k)"
   ]
  },
  {
   "cell_type": "code",
   "execution_count": null,
   "metadata": {},
   "outputs": [],
   "source": [
    "feat_selector.fit(x_train_reduced, y_train_reduced)"
   ]
  },
  {
   "cell_type": "markdown",
   "metadata": {},
   "source": [
    "\"Best features\" according to the select k best:"
   ]
  },
  {
   "cell_type": "code",
   "execution_count": null,
   "metadata": {},
   "outputs": [],
   "source": [
    "best_feats = feat_selector.get_feature_names_out(x_train_reduced.columns)\n",
    "best_feats"
   ]
  },
  {
   "attachments": {},
   "cell_type": "markdown",
   "metadata": {},
   "source": [
    "Feats and what they mean:\n",
    "- bci_bcistd - Standard deviation of The Bayesian Corruption Indicator\n",
    "- fh_cl - Civil Liberties\n",
    "- fh_pr - Political Rights\n",
    "- fh_status - Freedom Status\n",
    "- vdem_delibdem - Deliberative democracy index\n",
    "- vdem_edcomp_thick - Electoral component index\n",
    "- vdem_egal - Egalitarian component index\n",
    "- vdem_egaldem - Egalitarian democracy index\n",
    "- vdem_exbribe - Executive bribery and corrupt exchanges\n",
    "- vdem_excrptps - Public sector corrupt exchanges\n",
    "- vdem_exembez - Executive embezzlement and theft\n",
    "- vdem_exthftps - Public sector theft\n",
    "- vdem_libdem - Liberal democracy index\n",
    "- vdem_liberal - Liberal component index\n",
    "- vdem_mecorrpt - Media corrupt\n",
    "- vdem_partipdem - Participatory democracy index\n",
    "- vdem_polyarchy - Electoral democracy index\n",
    "- wbgi_ccs - Control of Corruption, Standard Error[s]\n",
    "- wbgi_gee - Government Effectiveness, Estimate[e]\n",
    "- wbgi_pv[e][n][s] - Political Stability and Absence of Violence/Terrorism, Estimate[e], Number of Sources[n], Standard Error[s]\n",
    "- wbgi_rle - Rule of Law, Estimate[e]\n",
    "- wbgi_rqe - Regulatory Quality, Estimate[e]\n",
    "- wbgi_vae - Voice and Accountability, Estimate[e]\n",
    "- ihme_hle_0104[f][m][t] - Healthy Life Years 1-4 Years, Females[f], Males[m], Both sexes[t]\n",
    "- ihme_lifexp_0104[f][m][t] - Life Expectancy 1-4 Years, Females[f], Males[m], Both sexes[t]"
   ]
  },
  {
   "cell_type": "markdown",
   "metadata": {},
   "source": [
    "Kick out columns directly related to corruption:"
   ]
  },
  {
   "cell_type": "code",
   "execution_count": null,
   "metadata": {},
   "outputs": [],
   "source": [
    "# corruption_cols = ['vdem_exbribe', 'vdem_excrptps', 'vdem_exembez', 'vdem_exthftps', 'vdem_mecorrpt']\n",
    "corruption_cols = ['bci_bcistd', 'vdem_exbribe', 'vdem_excrptps', 'vdem_exembez', 'vdem_exthftps', 'vdem_mecorrpt', 'wbgi_ccs', 'wbgi_ccn']\n",
    "best_feats = [f for f in best_feats if f not in corruption_cols]"
   ]
  },
  {
   "cell_type": "code",
   "execution_count": null,
   "metadata": {},
   "outputs": [],
   "source": [
    "# sns.pairplot(x_train_reduced, vars=best_feats)"
   ]
  },
  {
   "cell_type": "code",
   "execution_count": null,
   "metadata": {},
   "outputs": [],
   "source": [
    "cm = x_train_reduced[best_feats].corr()\n",
    "cm = cm.where(np.triu(np.ones(cm.shape), k=1).astype(bool))\n",
    "cm = cm.reset_index(drop=False)\n",
    "cm = cm.melt(id_vars='index', var_name='second_col', value_name='corr')\n",
    "cm.columns = ['first_col', 'second_col', 'corr_id']\n",
    "cm = cm[cm.first_col != cm.second_col]\n",
    "cm = cm.dropna()"
   ]
  },
  {
   "cell_type": "code",
   "execution_count": null,
   "metadata": {},
   "outputs": [],
   "source": [
    "highly_corr = cm[cm.corr_id.abs() > 0.85].copy()"
   ]
  },
  {
   "cell_type": "code",
   "execution_count": null,
   "metadata": {},
   "outputs": [],
   "source": [
    "for i, r in highly_corr.iterrows():\n",
    "    ws_max = 25\n",
    "    first_ws = ' ' * (ws_max - len(r.first_col))\n",
    "    second_ws = ' ' * (ws_max - len(r.second_col))\n",
    "    print(f'{r.first_col}{first_ws}{r.second_col}{second_ws}{r.corr_id:.2f}')"
   ]
  },
  {
   "cell_type": "code",
   "execution_count": null,
   "metadata": {},
   "outputs": [],
   "source": [
    "highly_corr.loc[:, 'corr_id'] = highly_corr.corr_id.abs()\n",
    "highly_corr_agg = highly_corr.groupby('first_col').agg({'second_col': 'count', 'corr_id': 'mean'})\n",
    "highly_corr_agg"
   ]
  },
  {
   "cell_type": "code",
   "execution_count": null,
   "metadata": {},
   "outputs": [],
   "source": [
    "best_feats_reduced = [f for f in best_feats if f not in highly_corr_agg[highly_corr_agg.second_col > 1].index.values]"
   ]
  },
  {
   "cell_type": "code",
   "execution_count": null,
   "metadata": {},
   "outputs": [],
   "source": [
    "x_train_reduced[best_feats_reduced].corr()"
   ]
  },
  {
   "cell_type": "markdown",
   "metadata": {},
   "source": [
    "Feats and what they mean:\n",
    "- vdem_egal - Egalitarian component index\n",
    "- vdem_polyarchy - Electoral democracy index\n",
    "- wbgi_pve - Political Stability and Absence of Violence/Terrorism, Estimate\n",
    "- wbgi_rle - Rule of Law, Estimate\n",
    "- wbgi_rqe - Regulatory Quality, Estimate\n",
    "- wbgi_vae - Voice and Accountability, Estimate"
   ]
  },
  {
   "cell_type": "code",
   "execution_count": null,
   "metadata": {},
   "outputs": [],
   "source": [
    "sns.pairplot(x_train_reduced, vars=best_feats_reduced)"
   ]
  },
  {
   "cell_type": "markdown",
   "metadata": {},
   "source": [
    "### Feature selection evaluation"
   ]
  },
  {
   "cell_type": "code",
   "execution_count": null,
   "metadata": {},
   "outputs": [],
   "source": [
    "from sklearn.neighbors import KNeighborsRegressor\n",
    "from sklearn.metrics import r2_score as r2\n",
    "from sklearn.metrics import mean_squared_error as rmse"
   ]
  },
  {
   "cell_type": "code",
   "execution_count": null,
   "metadata": {},
   "outputs": [],
   "source": [
    "options = ['full', 'best', 'best_reduced']"
   ]
  },
  {
   "cell_type": "code",
   "execution_count": null,
   "metadata": {},
   "outputs": [],
   "source": [
    "rms = {}\n",
    "rms['full'] = KNeighborsRegressor(n_neighbors=20)\n",
    "rms['best'] = KNeighborsRegressor(n_neighbors=20)\n",
    "rms['best_reduced'] = KNeighborsRegressor(n_neighbors=20)"
   ]
  },
  {
   "cell_type": "code",
   "execution_count": null,
   "metadata": {},
   "outputs": [],
   "source": [
    "feats = {}\n",
    "feats['full'] = x_train_reduced.columns\n",
    "feats['best'] = best_feats\n",
    "feats['best_reduced'] = best_feats_reduced"
   ]
  },
  {
   "cell_type": "code",
   "execution_count": null,
   "metadata": {},
   "outputs": [],
   "source": [
    "opt = 'best_reduced'\n",
    "rms[opt].fit(x_train_reduced[feats[opt]], y_train_reduced)\n",
    "y_pred = rms[opt].predict(x_test_reduced[feats[opt]])\n",
    "print(f'rmse: {rmse(y_test_reduced, y_pred, squared=True)}')\n",
    "print(f'r2: {r2(y_test_reduced, y_pred)}')"
   ]
  },
  {
   "cell_type": "code",
   "execution_count": null,
   "metadata": {},
   "outputs": [],
   "source": [
    "for opt in options:\n",
    "    print(f'current model: {opt}')\n",
    "    rms[opt].fit(x_train_reduced[feats[opt]], y_train_reduced)\n",
    "    y_pred = rms[opt].predict(x_test_reduced[feats[opt]])\n",
    "    print(f'rmse: {rmse(y_test_reduced, y_pred, squared=True)}')\n",
    "    print(f'r2: {r2(y_test_reduced, y_pred)}')\n",
    "    print()  "
   ]
  },
  {
   "cell_type": "code",
   "execution_count": null,
   "metadata": {},
   "outputs": [],
   "source": []
  }
 ],
 "metadata": {
  "kernelspec": {
   "display_name": "Python 3",
   "language": "python",
   "name": "python3"
  },
  "language_info": {
   "codemirror_mode": {
    "name": "ipython",
    "version": 3
   },
   "file_extension": ".py",
   "mimetype": "text/x-python",
   "name": "python",
   "nbconvert_exporter": "python",
   "pygments_lexer": "ipython3",
   "version": "3.8.10 (default, Nov 14 2022, 12:59:47) \n[GCC 9.4.0]"
  },
  "vscode": {
   "interpreter": {
    "hash": "916dbcbb3f70747c44a77c7bcd40155683ae19c65e1c03b4aa3499c5328201f1"
   }
  }
 },
 "nbformat": 4,
 "nbformat_minor": 4
}
