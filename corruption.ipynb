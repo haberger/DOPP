{
 "cells": [
  {
   "cell_type": "code",
   "execution_count": null,
   "metadata": {},
   "outputs": [],
   "source": [
    "from os.path import join\n",
    "import pandas as pd\n",
    "import numpy as np\n",
    "import matplotlib.pyplot as plt\n",
    "import seaborn as sns\n",
    "import missingno as msno\n",
    "from region_merge import merge_region\n",
    "from data_cleanup import return_rows_where_all_corruption_data_is_available"
   ]
  },
  {
   "cell_type": "code",
   "execution_count": null,
   "metadata": {},
   "outputs": [],
   "source": [
    "data_dir = 'data'\n",
    "qog_dataset_filename = 'qog_std_ts_jan22.csv'\n",
    "df = pd.read_csv(join(data_dir, qog_dataset_filename), low_memory=False)\n",
    "\n",
    "df = merge_region(df)\n",
    "df_reduced = return_rows_where_all_corruption_data_is_available(df)\n"
   ]
  },
  {
   "cell_type": "code",
   "execution_count": null,
   "metadata": {},
   "outputs": [],
   "source": [
    "df.info(verbose=True, memory_usage='deep', show_counts=True)\n",
    "df.describe()"
   ]
  },
  {
   "cell_type": "code",
   "execution_count": null,
   "metadata": {},
   "outputs": [],
   "source": [
    "corruption_col = ['bci_bci', 'ti_cpi', 'vdem_corr', 'vdem_execorr', 'vdem_jucorrdc', 'vdem_pubcorr', 'wbgi_cce', 'ti_cpi_om']\n",
    "identication_col = ['ccode', 'ccode_qog', 'ccodealp', 'ccodealp_year', 'ccodecow', 'cname', 'cname_qog', 'cname_year', 'version', 'year', 'region', 'sub-region']\n",
    "corruption_corr = df[corruption_col].corr()\n",
    "mask = np.triu(np.ones_like(corruption_corr, dtype=bool))\n",
    "f, ax = plt.subplots(figsize=(11, 9))\n",
    "cmap = sns.diverging_palette(230, 20, as_cmap=True)\n",
    "sns.heatmap(corruption_corr, mask=mask, cmap=cmap, center=0,\n",
    "            square=True, linewidths=.5, cbar_kws={\"shrink\": .5}, annot=True)\n"
   ]
  },
  {
   "cell_type": "code",
   "execution_count": null,
   "metadata": {},
   "outputs": [],
   "source": [
    "sns.pairplot(df[corruption_col])\n",
    "\n"
   ]
  },
  {
   "cell_type": "code",
   "execution_count": null,
   "metadata": {},
   "outputs": [],
   "source": [
    "msno.bar(df[corruption_col])"
   ]
  },
  {
   "cell_type": "markdown",
   "metadata": {},
   "source": [
    "CPI has a new and old methodology therefore non of the values exist at the same time"
   ]
  },
  {
   "cell_type": "code",
   "execution_count": null,
   "metadata": {},
   "outputs": [],
   "source": [
    "corruption_col = ['bci_bci', 'ti_cpi', 'vdem_corr', 'vdem_execorr', 'vdem_jucorrdc', 'vdem_pubcorr', 'wbgi_cce', 'ti_cpi_om']\n",
    "\n",
    "# drop every row where non of the corruption data is available\n",
    "df_any_corruption_info_available = df.dropna(subset=corruption_col, axis=0, how=\"all\")\n",
    "\n",
    "# display(df)\n",
    "#display(df_any_corruption_info_available)\n",
    "#15k to 11k rows\n",
    "\n",
    "# drop every row where not every corruption data is available\n",
    "# CPI dofferent methodology must first be merged\n",
    "def test(df):\n",
    "    corruption_col = ['bci_bci', 'ti_cpi', 'vdem_corr', 'vdem_execorr', 'vdem_jucorrdc', 'vdem_pubcorr', 'wbgi_cce']\n",
    "\n",
    "    df_cpi_combined = df.copy()\n",
    "    df_cpi_combined['ti_cpi']=df['ti_cpi'].combine_first(df['ti_cpi_om'])\n",
    "    df_all_corruption_info_available = df_cpi_combined.dropna(subset=corruption_col, axis=0, how='any')\n",
    "    return df_all_corruption_info_available\n",
    "\n",
    "df_all_corruption_info_available = test(df)\n",
    "\n",
    "display(df)\n",
    "\n",
    "display(df_all_corruption_info_available)\n",
    "#11k to 1.7k rows\n",
    "\n",
    "corruption_col_with_year = ['year','bci_bci', 'ti_cpi', 'vdem_corr', 'vdem_execorr', 'vdem_jucorrdc', 'vdem_pubcorr', 'wbgi_cce']\n",
    "msno.matrix(df[corruption_col_with_year].sort_values(by='year'))\n",
    "msno.matrix(df_any_corruption_info_available[corruption_col_with_year].sort_values(by='year'))\n",
    "msno.matrix(df_all_corruption_info_available[corruption_col_with_year].sort_values(by='year'))\n",
    "msno.heatmap(df_any_corruption_info_available[corruption_col])\n"
   ]
  },
  {
   "cell_type": "code",
   "execution_count": null,
   "metadata": {},
   "outputs": [],
   "source": [
    "df[corruption_col].describe()\n"
   ]
  },
  {
   "cell_type": "code",
   "execution_count": null,
   "metadata": {},
   "outputs": [],
   "source": [
    "\n",
    "def plot_not_nan_threshold(df, plotname):\n",
    "    length = df.shape[0]\n",
    "    percent_nan = (df.isna().sum().values/length)*100\n",
    "    column_count = []\n",
    "    percent_nan\n",
    "    for i in range (100):\n",
    "        column_count.append((percent_nan > i).sum())\n",
    "\n",
    "    fig, (ax1, ax2) = plt.subplots(2)\n",
    "\n",
    "    ax1.plot(column_count)\n",
    "    fig.suptitle(f\"{plotname}\")\n",
    "    ax1.grid()\n",
    "    ax1.set_ylabel('number of columns')\n",
    "\n",
    "    ax2.plot(column_count)\n",
    "    ax2.set_xlim([85, 100])\n",
    "    ax2.set_ylim([0, 1000])\n",
    "    ax2.grid()\n",
    "    ax2.set_xlabel('not nan threshold')\n",
    "\n",
    "plot_not_nan_threshold(df_all_corruption_info_available, \"Non nan threshold for all corruption data available\")\n",
    "plot_not_nan_threshold(df_any_corruption_info_available, \"Non nan threshold for any corruption data available\")\n"
   ]
  },
  {
   "cell_type": "code",
   "execution_count": null,
   "metadata": {},
   "outputs": [],
   "source": [
    "def clean_data_for_corruption(df, target_column, threshold):\n",
    "    if target_column not in corruption_col:\n",
    "        print('arget column not in corruption columns')\n",
    "        return\n",
    "    #drop all corruption columns but the target_column\n",
    "    columns_to_drop = [col for col in corruption_col if col != 'target_column']\n",
    "    columns_reduced = df.drop(labels=columns_to_drop)\n",
    "\n",
    "#\n",
    "display(df_all_corruption_info_available)\n",
    "df_without_corruption = df_all_corruption_info_available.drop(columns=corruption_col)\n",
    "\n",
    "treshhold = (df_without_corruption.shape[0]/100)*100\n",
    "df_columns_reduced = df_without_corruption.dropna(axis='columns', thresh=treshhold)\n",
    "display(df_columns_reduced)"
   ]
  },
  {
   "cell_type": "code",
   "execution_count": null,
   "metadata": {},
   "outputs": [],
   "source": [
    "def drop_values(df, min_percentage_non_nan, exclude_columns):\n",
    "    df_without_exclude_columns = df.drop(columns = exclude_columns)\n",
    "    mask = np.logical_or.reduce(df_without_exclude_columns.isnull(), axis = 0)\n",
    "\n",
    "    \n",
    "\n",
    "\n",
    "    return df.drop(columns = df_without_exclude_columns.loc[:,mask].columns.values.tolist())\n",
    "\n",
    "df_reduced = drop_values(df_cpi_combined_all_corruption_indices, 99, corruption_columns)\n",
    "# display(df_reduced)\n",
    "print(df_reduced.columns.values.tolist())\n",
    "df_reduced = drop_values(df_any_corruption_index_available, 99, corruption_columns)\n",
    "# display(df_reduced)\n",
    "print(df_reduced.columns.values.tolist())\n"
   ]
  }
 ],
 "metadata": {
  "kernelspec": {
   "display_name": "dopp",
   "language": "python",
   "name": "python3"
  },
  "language_info": {
   "codemirror_mode": {
    "name": "ipython",
    "version": 3
   },
   "file_extension": ".py",
   "mimetype": "text/x-python",
   "name": "python",
   "nbconvert_exporter": "python",
   "pygments_lexer": "ipython3",
   "version": "3.10.6 (main, Oct 24 2022, 16:07:47) [GCC 11.2.0]"
  },
  "vscode": {
   "interpreter": {
    "hash": "543aa23b88fc9de87e855576d5d47491130665cd749e56028ebe7cfa2e718f2a"
   }
  }
 },
 "nbformat": 4,
 "nbformat_minor": 2
}
