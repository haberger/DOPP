{
 "cells": [
  {
   "cell_type": "code",
   "execution_count": 81,
   "metadata": {},
   "outputs": [
    {
     "name": "stdout",
     "output_type": "stream",
     "text": [
      "The autoreload extension is already loaded. To reload it, use:\n",
      "  %reload_ext autoreload\n"
     ]
    }
   ],
   "source": [
    "%load_ext autoreload\n",
    "%autoreload 2\n",
    "\n",
    "import pandas as pd\n",
    "import numpy as np\n",
    "import seaborn as sns\n",
    "import matplotlib.pyplot as plt\n",
    "import pickle\n",
    "import os \n",
    "\n",
    "from data_cleanup import *\n",
    "from feature_selection import *\n",
    "from model_ import *\n",
    "\n",
    "from sklearn.pipeline import make_pipeline\n",
    "from sklearn.metrics import r2_score as r2\n",
    "from sklearn.metrics import mean_squared_error as rmse\n",
    "from sklearn.preprocessing import StandardScaler\n",
    "from sklearn.linear_model import LassoCV, LassoLarsCV\n",
    "from sklearn.ensemble import RandomForestRegressor"
   ]
  },
  {
   "cell_type": "code",
   "execution_count": 82,
   "metadata": {},
   "outputs": [],
   "source": [
    "corr_cols = ['ti_cpi', 'bci_bci', 'ti_cpi_om', 'wbgi_cce']\n",
    "meta_cols = ['ccode', 'ccode_qog', 'ccodealp', 'ccodealp_year', 'ccodecow', 'cname', 'cname_qog', 'cname_year', 'version', 'year', 'region', 'sub-region']\n",
    "df = load_reduced_df(corr_cols)"
   ]
  },
  {
   "cell_type": "code",
   "execution_count": 83,
   "metadata": {},
   "outputs": [
    {
     "data": {
      "text/plain": [
       "(2836, 2528)"
      ]
     },
     "metadata": {},
     "output_type": "display_data"
    }
   ],
   "source": [
    "display(df.shape)"
   ]
  },
  {
   "attachments": {},
   "cell_type": "markdown",
   "metadata": {},
   "source": [
    "### Feature selection"
   ]
  },
  {
   "cell_type": "code",
   "execution_count": 84,
   "metadata": {},
   "outputs": [],
   "source": [
    "df = drop_date_columns(df)\n",
    "\n",
    "best_features_dict = {}\n",
    "selected_features_dict = {}\n",
    "\n",
    "for target_col in corr_cols:\n",
    "    X_train, X_test, y_train, y_test = create_traintestsplit(df, corr_cols = corr_cols, meta_cols=meta_cols, target_col=target_col)\n",
    "    \n",
    "    best_features = pre_select(X_train, y_train)\n",
    "    best_features_dict[target_col] = set(best_features)\n",
    "    df_train = X_train[best_features].copy()\n",
    "    df_train[target_col]=y_train\n",
    "    mce = MultiCollinearityEliminator(df_train, target_col, 0.85)\n",
    "    feaures_no_collinearity = list(mce.autoEliminateMulticollinearity().columns)\n",
    "    feaures_no_collinearity.remove(target_col)\n",
    "    selected_features_dict[target_col] = set(feaures_no_collinearity)\n",
    "\n",
    "\n",
    "#selected_features_dict"
   ]
  },
  {
   "cell_type": "code",
   "execution_count": 85,
   "metadata": {},
   "outputs": [
    {
     "name": "stdout",
     "output_type": "stream",
     "text": [
      "cpds_vnl_nan         0\n",
      "cpds_tg_nan          0\n",
      "wel_sys_1.0          0\n",
      "cpds_vnl_0.0         0\n",
      "cpds_govlr_nan       0\n",
      "ciri_injud_2.0       0\n",
      "ihme_lifexp_0104f    0\n",
      "cpds_chg_nan         0\n",
      "cpds_lper_nan        0\n",
      "fh_ipolity2          0\n",
      "ihme_hle_0104f       0\n",
      "cpds_vper_0.0        0\n",
      "kun_cluster_5.0      0\n",
      "br_mon               0\n",
      "ihme_hle_0104t       0\n",
      "ihme_lifexp_0104m    0\n",
      "cpds_vpen_0.0        0\n",
      "cpds_lpen_nan        0\n",
      "wel_scalezone_4.0    0\n",
      "fh_pr_1.0            0\n",
      "ihme_lifexp_0104t    0\n",
      "cpds_vpen_nan        0\n",
      "bmr_demfsuf          0\n",
      "bmr_dem              0\n",
      "cpds_chg_0.0         0\n",
      "gd_ptss_1.0          0\n",
      "fhp_status5_1.0      0\n",
      "fh_cl_1.0            0\n",
      "fh_status_1.0        0\n",
      "cpds_lall_nan        0\n",
      "cpds_vper_nan        0\n",
      "cpds_lall_0.0        0\n",
      "cpds_lper_0.0        0\n",
      "cpds_lpen_0.0        0\n",
      "ihme_hle_0104m       0\n",
      "dtype: int64\n"
     ]
    }
   ],
   "source": [
    "best_features_union=list(set.union(*list(best_features_dict.values())))\n",
    "best_features_intersection=list(set.intersection(*list(best_features_dict.values())))\n",
    "\n",
    "best_features_intersection\n",
    "\n",
    "print(df[best_features_union].isna().sum().sort_values(ascending=False))\n"
   ]
  },
  {
   "cell_type": "markdown",
   "metadata": {},
   "source": []
  },
  {
   "cell_type": "code",
   "execution_count": 86,
   "metadata": {},
   "outputs": [
    {
     "data": {
      "text/plain": [
       "['fh_cl_1.0',\n",
       " 'cpds_vper_0.0',\n",
       " 'gd_ptss_1.0',\n",
       " 'fhp_status5_1.0',\n",
       " 'fh_status_1.0']"
      ]
     },
     "execution_count": 86,
     "metadata": {},
     "output_type": "execute_result"
    }
   ],
   "source": [
    "selected_features_union=list(set.union(*list(selected_features_dict.values())))\n",
    "selected_features_intersection=list(set.intersection(*list(selected_features_dict.values())))\n",
    "\n",
    "selected_features_intersection"
   ]
  },
  {
   "attachments": {},
   "cell_type": "markdown",
   "metadata": {},
   "source": [
    "## Modeling\n",
    "\n",
    "Try Lasso and Random Forest next. Train models for different feature configurations \n",
    "\n",
    "    - individual selected features for a particular index\n",
    "    - union of all good features for all indices\n",
    "    - intersection of all selected for features for all indices\n",
    "\n",
    "As scores r2 and rmse are reported. The comparisons are based on r2-scores as they make the scores for different indices comparable.\n",
    "    \n",
    "\n",
    "### Lasso\n",
    "The used library uses cross validation to determine a good value for alpha.\n",
    "\n",
    "The following script trains for all target indices a Lasso model, then displays r2 score and feature importance information. "
   ]
  },
  {
   "cell_type": "code",
   "execution_count": 87,
   "metadata": {},
   "outputs": [],
   "source": [
    "def lasso_info_script(features, name):\n",
    "    lasso_bf = dict()\n",
    "\n",
    "    df_score = pd.DataFrame(columns=['r2', 'rmse'], index=corr_cols)\n",
    "    for target in corr_cols:\n",
    "        if isinstance(features, dict):\n",
    "            lasso_bf[target] = apply_lassocv(df, target, list(features[target]), corr_cols, meta_cols, fprint=False)\n",
    "        else:\n",
    "            lasso_bf[target] = apply_lassocv(df, target, features, corr_cols, meta_cols, fprint=False)\n",
    "        df_score.loc[target,] = [lasso_bf[target]['r2'] ,lasso_bf[target]['rmse']]\n",
    "    \n",
    "    print('scores')\n",
    "    display(df_score)\n",
    "\n",
    "    # l_fi = [lasso_bf[target]['feat_importance'] for target in corr_cols]\n",
    "    # df_fi = pd.concat(l_fi)\n",
    "\n",
    "    # l_firk = [lasso_bf[target]['feat_importance_rank'] for target in corr_cols]\n",
    "    # df_firk = pd.concat(l_firk)\n",
    "\n",
    "    # print('feature importance')\n",
    "    # display(df_fi)\n",
    "    # df_fi.T.plot(kind='bar', figsize=(20,8))\n",
    "    # print()\n",
    "\n",
    "    # print('feature importance rank')\n",
    "    # display(df_firk)\n",
    "    # print()\n",
    "    # file = os.path.join('pickle', name +'.obj')\n",
    "    # f = open(file, 'wb')\n",
    "    # pickle.dump(lasso_bf ,f)\n",
    "    #f.close()     \n"
   ]
  },
  {
   "attachments": {},
   "cell_type": "markdown",
   "metadata": {},
   "source": [
    "First we apply the script for the individually selected features for each corruption index."
   ]
  },
  {
   "cell_type": "code",
   "execution_count": 88,
   "metadata": {},
   "outputs": [
    {
     "name": "stdout",
     "output_type": "stream",
     "text": [
      "scores\n"
     ]
    },
    {
     "data": {
      "text/html": [
       "<div>\n",
       "<style scoped>\n",
       "    .dataframe tbody tr th:only-of-type {\n",
       "        vertical-align: middle;\n",
       "    }\n",
       "\n",
       "    .dataframe tbody tr th {\n",
       "        vertical-align: top;\n",
       "    }\n",
       "\n",
       "    .dataframe thead th {\n",
       "        text-align: right;\n",
       "    }\n",
       "</style>\n",
       "<table border=\"1\" class=\"dataframe\">\n",
       "  <thead>\n",
       "    <tr style=\"text-align: right;\">\n",
       "      <th></th>\n",
       "      <th>r2</th>\n",
       "      <th>rmse</th>\n",
       "    </tr>\n",
       "  </thead>\n",
       "  <tbody>\n",
       "    <tr>\n",
       "      <th>ti_cpi</th>\n",
       "      <td>0.627212</td>\n",
       "      <td>9.61274</td>\n",
       "    </tr>\n",
       "    <tr>\n",
       "      <th>bci_bci</th>\n",
       "      <td>0.444336</td>\n",
       "      <td>9.774895</td>\n",
       "    </tr>\n",
       "    <tr>\n",
       "      <th>ti_cpi_om</th>\n",
       "      <td>0.637547</td>\n",
       "      <td>1.04514</td>\n",
       "    </tr>\n",
       "    <tr>\n",
       "      <th>wbgi_cce</th>\n",
       "      <td>0.63687</td>\n",
       "      <td>0.505975</td>\n",
       "    </tr>\n",
       "  </tbody>\n",
       "</table>\n",
       "</div>"
      ],
      "text/plain": [
       "                 r2      rmse\n",
       "ti_cpi     0.627212   9.61274\n",
       "bci_bci    0.444336  9.774895\n",
       "ti_cpi_om  0.637547   1.04514\n",
       "wbgi_cce    0.63687  0.505975"
      ]
     },
     "metadata": {},
     "output_type": "display_data"
    }
   ],
   "source": [
    "lasso_info_script(selected_features_dict, 'lasso_selected_features_dict')"
   ]
  },
  {
   "attachments": {},
   "cell_type": "markdown",
   "metadata": {},
   "source": [
    "Next we use for all corruption indices the same set of features - the set of all as promising declared features."
   ]
  },
  {
   "cell_type": "code",
   "execution_count": 89,
   "metadata": {},
   "outputs": [
    {
     "name": "stdout",
     "output_type": "stream",
     "text": [
      "scores\n"
     ]
    },
    {
     "data": {
      "text/html": [
       "<div>\n",
       "<style scoped>\n",
       "    .dataframe tbody tr th:only-of-type {\n",
       "        vertical-align: middle;\n",
       "    }\n",
       "\n",
       "    .dataframe tbody tr th {\n",
       "        vertical-align: top;\n",
       "    }\n",
       "\n",
       "    .dataframe thead th {\n",
       "        text-align: right;\n",
       "    }\n",
       "</style>\n",
       "<table border=\"1\" class=\"dataframe\">\n",
       "  <thead>\n",
       "    <tr style=\"text-align: right;\">\n",
       "      <th></th>\n",
       "      <th>r2</th>\n",
       "      <th>rmse</th>\n",
       "    </tr>\n",
       "  </thead>\n",
       "  <tbody>\n",
       "    <tr>\n",
       "      <th>ti_cpi</th>\n",
       "      <td>0.635061</td>\n",
       "      <td>9.510998</td>\n",
       "    </tr>\n",
       "    <tr>\n",
       "      <th>bci_bci</th>\n",
       "      <td>0.455425</td>\n",
       "      <td>9.67687</td>\n",
       "    </tr>\n",
       "    <tr>\n",
       "      <th>ti_cpi_om</th>\n",
       "      <td>0.666866</td>\n",
       "      <td>1.001978</td>\n",
       "    </tr>\n",
       "    <tr>\n",
       "      <th>wbgi_cce</th>\n",
       "      <td>0.636917</td>\n",
       "      <td>0.505942</td>\n",
       "    </tr>\n",
       "  </tbody>\n",
       "</table>\n",
       "</div>"
      ],
      "text/plain": [
       "                 r2      rmse\n",
       "ti_cpi     0.635061  9.510998\n",
       "bci_bci    0.455425   9.67687\n",
       "ti_cpi_om  0.666866  1.001978\n",
       "wbgi_cce   0.636917  0.505942"
      ]
     },
     "metadata": {},
     "output_type": "display_data"
    }
   ],
   "source": [
    "lasso_info_script(best_features_union, 'lasso_best_features_union')"
   ]
  },
  {
   "cell_type": "code",
   "execution_count": 90,
   "metadata": {},
   "outputs": [
    {
     "data": {
      "text/plain": [
       "count    2836.000000\n",
       "mean        0.190056\n",
       "std         0.392415\n",
       "min         0.000000\n",
       "25%         0.000000\n",
       "50%         0.000000\n",
       "75%         0.000000\n",
       "max         1.000000\n",
       "Name: br_mon, dtype: float64"
      ]
     },
     "execution_count": 90,
     "metadata": {},
     "output_type": "execute_result"
    }
   ],
   "source": [
    "df.dtypes[best_features_union]\n",
    "df.br_mon.describe()"
   ]
  },
  {
   "attachments": {},
   "cell_type": "markdown",
   "metadata": {},
   "source": [
    "Now we use only the features that are in all individually selected feature sets."
   ]
  },
  {
   "cell_type": "code",
   "execution_count": 91,
   "metadata": {},
   "outputs": [
    {
     "name": "stdout",
     "output_type": "stream",
     "text": [
      "scores\n"
     ]
    },
    {
     "data": {
      "text/html": [
       "<div>\n",
       "<style scoped>\n",
       "    .dataframe tbody tr th:only-of-type {\n",
       "        vertical-align: middle;\n",
       "    }\n",
       "\n",
       "    .dataframe tbody tr th {\n",
       "        vertical-align: top;\n",
       "    }\n",
       "\n",
       "    .dataframe thead th {\n",
       "        text-align: right;\n",
       "    }\n",
       "</style>\n",
       "<table border=\"1\" class=\"dataframe\">\n",
       "  <thead>\n",
       "    <tr style=\"text-align: right;\">\n",
       "      <th></th>\n",
       "      <th>r2</th>\n",
       "      <th>rmse</th>\n",
       "    </tr>\n",
       "  </thead>\n",
       "  <tbody>\n",
       "    <tr>\n",
       "      <th>ti_cpi</th>\n",
       "      <td>0.621739</td>\n",
       "      <td>9.683047</td>\n",
       "    </tr>\n",
       "    <tr>\n",
       "      <th>bci_bci</th>\n",
       "      <td>0.386012</td>\n",
       "      <td>10.275092</td>\n",
       "    </tr>\n",
       "    <tr>\n",
       "      <th>ti_cpi_om</th>\n",
       "      <td>0.63745</td>\n",
       "      <td>1.045281</td>\n",
       "    </tr>\n",
       "    <tr>\n",
       "      <th>wbgi_cce</th>\n",
       "      <td>0.650318</td>\n",
       "      <td>0.496517</td>\n",
       "    </tr>\n",
       "  </tbody>\n",
       "</table>\n",
       "</div>"
      ],
      "text/plain": [
       "                 r2       rmse\n",
       "ti_cpi     0.621739   9.683047\n",
       "bci_bci    0.386012  10.275092\n",
       "ti_cpi_om   0.63745   1.045281\n",
       "wbgi_cce   0.650318   0.496517"
      ]
     },
     "metadata": {},
     "output_type": "display_data"
    }
   ],
   "source": [
    "lasso_info_script(selected_features_intersection, 'lasso_selected_features_intersection')"
   ]
  },
  {
   "attachments": {},
   "cell_type": "markdown",
   "metadata": {},
   "source": [
    "Findings:\n",
    "\n",
    "- wbgi_rle (Rule of Law) is by far the most important feature in almost all configurations\n",
    "- most indices behave similarly for the three feature set configuration but\n",
    "- ti_cpi is most different: its score is very bad with the smallest feature set. Its most important feature is wbgi_pvs [Political Stability and Absence of Violence/Terrorism, Standard error] and not wbgi_rle\n",
    "- vdem_jucorrdc is also effected more by different feature sets and its score is lower as well in general.\n",
    "- all the other indices gain information slightly by more features but they do not rely too much on the chosen setups"
   ]
  },
  {
   "attachments": {},
   "cell_type": "markdown",
   "metadata": {},
   "source": [
    "### Random Forest\n",
    "\n",
    "Next we do the same for a Random Forest Regressor. Here initially no cross validation is done. We just use a default setup at first."
   ]
  },
  {
   "cell_type": "code",
   "execution_count": 92,
   "metadata": {},
   "outputs": [],
   "source": [
    "def rf_info_script(features, name):\n",
    "    rf_bf = dict()\n",
    "\n",
    "    df_score = pd.DataFrame(columns=['r2', 'rmse'], index=corr_cols)\n",
    "    for target in corr_cols:\n",
    "        if isinstance(features, dict):\n",
    "            rf_bf[target] = apply_rf(df, target, list(features[target]), corr_cols, meta_cols, fprint=False)\n",
    "        else:\n",
    "            rf_bf[target] = apply_rf(df, target, features, corr_cols, meta_cols, fprint=False)\n",
    "        df_score.loc[target,] = [rf_bf[target]['r2'] ,rf_bf[target]['rmse']]\n",
    "    \n",
    "    print('scores')\n",
    "    display(df_score)\n",
    "\n",
    "    # l_fi = [rf_bf[target]['feat_importance'] for target in corr_cols]\n",
    "    # df_fi = pd.concat(l_fi)\n",
    "\n",
    "    # l_firk = [rf_bf[target]['feat_importance_rank'] for target in corr_cols]\n",
    "    # df_firk = pd.concat(l_firk)\n",
    "\n",
    "    # print('feature importance')\n",
    "    # display(df_fi)\n",
    "\n",
    "    # df_fi.T.plot(kind='bar', figsize=(20,8))\n",
    "    # print()\n",
    "\n",
    "    # print('feature importance rank')\n",
    "    # display(df_firk)\n",
    "    # print()\n",
    "    # file = os.path.join('pickle', name +'.obj')\n",
    "    # f = open(file, 'wb')\n",
    "    # pickle.dump(rf_bf ,f)\n",
    "    #f.close()    \n",
    "\n"
   ]
  },
  {
   "attachments": {},
   "cell_type": "markdown",
   "metadata": {},
   "source": [
    "First we apply again the script for the individually selected features for each corruption index."
   ]
  },
  {
   "cell_type": "code",
   "execution_count": 93,
   "metadata": {},
   "outputs": [
    {
     "name": "stdout",
     "output_type": "stream",
     "text": [
      "scores\n"
     ]
    },
    {
     "data": {
      "text/html": [
       "<div>\n",
       "<style scoped>\n",
       "    .dataframe tbody tr th:only-of-type {\n",
       "        vertical-align: middle;\n",
       "    }\n",
       "\n",
       "    .dataframe tbody tr th {\n",
       "        vertical-align: top;\n",
       "    }\n",
       "\n",
       "    .dataframe thead th {\n",
       "        text-align: right;\n",
       "    }\n",
       "</style>\n",
       "<table border=\"1\" class=\"dataframe\">\n",
       "  <thead>\n",
       "    <tr style=\"text-align: right;\">\n",
       "      <th></th>\n",
       "      <th>r2</th>\n",
       "      <th>rmse</th>\n",
       "    </tr>\n",
       "  </thead>\n",
       "  <tbody>\n",
       "    <tr>\n",
       "      <th>ti_cpi</th>\n",
       "      <td>0.600142</td>\n",
       "      <td>9.955629</td>\n",
       "    </tr>\n",
       "    <tr>\n",
       "      <th>bci_bci</th>\n",
       "      <td>0.332477</td>\n",
       "      <td>10.713687</td>\n",
       "    </tr>\n",
       "    <tr>\n",
       "      <th>ti_cpi_om</th>\n",
       "      <td>0.675702</td>\n",
       "      <td>0.988601</td>\n",
       "    </tr>\n",
       "    <tr>\n",
       "      <th>wbgi_cce</th>\n",
       "      <td>0.5315</td>\n",
       "      <td>0.574715</td>\n",
       "    </tr>\n",
       "  </tbody>\n",
       "</table>\n",
       "</div>"
      ],
      "text/plain": [
       "                 r2       rmse\n",
       "ti_cpi     0.600142   9.955629\n",
       "bci_bci    0.332477  10.713687\n",
       "ti_cpi_om  0.675702   0.988601\n",
       "wbgi_cce     0.5315   0.574715"
      ]
     },
     "metadata": {},
     "output_type": "display_data"
    }
   ],
   "source": [
    "rf_info_script(selected_features_dict, 'rf_selected_features_dict')"
   ]
  },
  {
   "attachments": {},
   "cell_type": "markdown",
   "metadata": {},
   "source": [
    "Next we use for all corruption indices the same set of features - the set of all as promising declared features."
   ]
  },
  {
   "cell_type": "code",
   "execution_count": 94,
   "metadata": {},
   "outputs": [
    {
     "name": "stdout",
     "output_type": "stream",
     "text": [
      "scores\n"
     ]
    },
    {
     "data": {
      "text/html": [
       "<div>\n",
       "<style scoped>\n",
       "    .dataframe tbody tr th:only-of-type {\n",
       "        vertical-align: middle;\n",
       "    }\n",
       "\n",
       "    .dataframe tbody tr th {\n",
       "        vertical-align: top;\n",
       "    }\n",
       "\n",
       "    .dataframe thead th {\n",
       "        text-align: right;\n",
       "    }\n",
       "</style>\n",
       "<table border=\"1\" class=\"dataframe\">\n",
       "  <thead>\n",
       "    <tr style=\"text-align: right;\">\n",
       "      <th></th>\n",
       "      <th>r2</th>\n",
       "      <th>rmse</th>\n",
       "    </tr>\n",
       "  </thead>\n",
       "  <tbody>\n",
       "    <tr>\n",
       "      <th>ti_cpi</th>\n",
       "      <td>0.639009</td>\n",
       "      <td>9.459415</td>\n",
       "    </tr>\n",
       "    <tr>\n",
       "      <th>bci_bci</th>\n",
       "      <td>0.426724</td>\n",
       "      <td>9.928597</td>\n",
       "    </tr>\n",
       "    <tr>\n",
       "      <th>ti_cpi_om</th>\n",
       "      <td>0.677534</td>\n",
       "      <td>0.985805</td>\n",
       "    </tr>\n",
       "    <tr>\n",
       "      <th>wbgi_cce</th>\n",
       "      <td>0.640286</td>\n",
       "      <td>0.503589</td>\n",
       "    </tr>\n",
       "  </tbody>\n",
       "</table>\n",
       "</div>"
      ],
      "text/plain": [
       "                 r2      rmse\n",
       "ti_cpi     0.639009  9.459415\n",
       "bci_bci    0.426724  9.928597\n",
       "ti_cpi_om  0.677534  0.985805\n",
       "wbgi_cce   0.640286  0.503589"
      ]
     },
     "metadata": {},
     "output_type": "display_data"
    }
   ],
   "source": [
    "rf_info_script(best_features_union, 'rf_best_features_union')"
   ]
  },
  {
   "attachments": {},
   "cell_type": "markdown",
   "metadata": {},
   "source": [
    "Now we use only the features that are in all individually selected feature sets."
   ]
  },
  {
   "cell_type": "code",
   "execution_count": 95,
   "metadata": {},
   "outputs": [
    {
     "name": "stdout",
     "output_type": "stream",
     "text": [
      "scores\n"
     ]
    },
    {
     "data": {
      "text/html": [
       "<div>\n",
       "<style scoped>\n",
       "    .dataframe tbody tr th:only-of-type {\n",
       "        vertical-align: middle;\n",
       "    }\n",
       "\n",
       "    .dataframe tbody tr th {\n",
       "        vertical-align: top;\n",
       "    }\n",
       "\n",
       "    .dataframe thead th {\n",
       "        text-align: right;\n",
       "    }\n",
       "</style>\n",
       "<table border=\"1\" class=\"dataframe\">\n",
       "  <thead>\n",
       "    <tr style=\"text-align: right;\">\n",
       "      <th></th>\n",
       "      <th>r2</th>\n",
       "      <th>rmse</th>\n",
       "    </tr>\n",
       "  </thead>\n",
       "  <tbody>\n",
       "    <tr>\n",
       "      <th>ti_cpi</th>\n",
       "      <td>0.593483</td>\n",
       "      <td>10.038187</td>\n",
       "    </tr>\n",
       "    <tr>\n",
       "      <th>bci_bci</th>\n",
       "      <td>0.363788</td>\n",
       "      <td>10.459399</td>\n",
       "    </tr>\n",
       "    <tr>\n",
       "      <th>ti_cpi_om</th>\n",
       "      <td>0.606302</td>\n",
       "      <td>1.089257</td>\n",
       "    </tr>\n",
       "    <tr>\n",
       "      <th>wbgi_cce</th>\n",
       "      <td>0.627294</td>\n",
       "      <td>0.512602</td>\n",
       "    </tr>\n",
       "  </tbody>\n",
       "</table>\n",
       "</div>"
      ],
      "text/plain": [
       "                 r2       rmse\n",
       "ti_cpi     0.593483  10.038187\n",
       "bci_bci    0.363788  10.459399\n",
       "ti_cpi_om  0.606302   1.089257\n",
       "wbgi_cce   0.627294   0.512602"
      ]
     },
     "metadata": {},
     "output_type": "display_data"
    }
   ],
   "source": [
    "rf_info_script(selected_features_intersection, 'rf_best_features_union')"
   ]
  },
  {
   "attachments": {},
   "cell_type": "markdown",
   "metadata": {},
   "source": [
    "The general picture of the results with Random Forest is not that different to the one with Lasso. Some differences are\n",
    "\n",
    "- ti_cpi is predicted very well now both in comparison with Lasso and with all other indices\n",
    "- HOWEVER, if only the minimal feature set is used ti_cpi is even worse than with Lasso\n",
    "- for vdem_execorr the vdem_egal (Egalitarian component index) is the most important feature\n",
    "- vdem_jucorr is now by far the most difficult to predict index\n",
    "- although feature importance is not straight-forward comparable between Lasso (weight of coefficients) and Random Forest (Gini) it seems like Random Forst discriminates harder with regard to features\n",
    "\n",
    "Random Forest performs either similarly or better for most setups / indices allthough no parameter optimization is done by now. So we continue with Random Forst and do hyperparameter optimization for some specific settings next to further optimize the results."
   ]
  },
  {
   "attachments": {},
   "cell_type": "markdown",
   "metadata": {},
   "source": [
    "### Grid Search: Random Forest"
   ]
  },
  {
   "attachments": {},
   "cell_type": "markdown",
   "metadata": {},
   "source": [
    "With cross validation / hyperparameter grid search better parameters are determined. With those optimizations then again models are trained, then the test set is predicted and scores are evaluated.\n",
    "\n",
    "The script defined below shows a similar report than above."
   ]
  },
  {
   "cell_type": "code",
   "execution_count": 96,
   "metadata": {},
   "outputs": [],
   "source": [
    "def rf_gridsearch_info_script(features, name):\n",
    "    rf_bf = dict()\n",
    "\n",
    "    param_grid = {\n",
    "        \"randomforestregressor__max_depth\": [2, 3, 5, 10, None],\n",
    "        \"randomforestregressor__min_samples_split\": [2, 3, 5, 10],\n",
    "        \"randomforestregressor__max_features\": [\"log2\", None]\n",
    "        }\n",
    "\n",
    "    df_score = pd.DataFrame(columns=['r2', 'rmse'], index=corr_cols)\n",
    "    for target in corr_cols:\n",
    "        if isinstance(features, dict):\n",
    "            rf_bf[target] = apply_gridsearch_rf(df, target, list(features[target]), param_grid, corr_cols, meta_cols, fprint=False)\n",
    "        else:\n",
    "            rf_bf[target] = apply_gridsearch_rf(df, target, features, param_grid, corr_cols, meta_cols, fprint=False)\n",
    "        df_score.loc[target,] = [rf_bf[target]['r2'] ,rf_bf[target]['rmse']]\n",
    "    \n",
    "    print('scores')\n",
    "    display(df_score)\n",
    "\n",
    "    # l_fi = [rf_bf[target]['feat_importance'] for target in corr_cols]\n",
    "    # df_fi = pd.concat(l_fi)\n",
    "    # rf_bf[target]\n",
    "    # l_firk = [rf_bf[target]['feat_importance_rank'] for target in corr_cols]\n",
    "    # df_firk = pd.concat(l_firk)\n",
    "    # rf_bf[target]['params']\n",
    "    # l_params = [rf_bf[target]['params'] for target in corr_cols]\n",
    "    # df_params = pd.concat(l_params)\n",
    "\n",
    "    # print('feature importance')\n",
    "    # display(df_fi)\n",
    "\n",
    "    # df_fi.T.plot(kind='bar', figsize=(20,8))\n",
    "    # print()\n",
    "\n",
    "    # print('feature importance rank')\n",
    "    # display(df_firk)\n",
    "    \n",
    "    # file = os.path.join('pickle', name +'.obj')\n",
    "    # f = open(file, 'wb')\n",
    "    # pickle.dump(rf_bf ,f)\n",
    "    #f.close()    \n",
    "\n"
   ]
  },
  {
   "attachments": {},
   "cell_type": "markdown",
   "metadata": {},
   "source": [
    "Now we only use for each index the individually selected feature set as we saw above that the results are comparable (so the feature selection process works adequately)."
   ]
  },
  {
   "cell_type": "code",
   "execution_count": 97,
   "metadata": {},
   "outputs": [
    {
     "name": "stdout",
     "output_type": "stream",
     "text": [
      "scores\n"
     ]
    },
    {
     "data": {
      "text/html": [
       "<div>\n",
       "<style scoped>\n",
       "    .dataframe tbody tr th:only-of-type {\n",
       "        vertical-align: middle;\n",
       "    }\n",
       "\n",
       "    .dataframe tbody tr th {\n",
       "        vertical-align: top;\n",
       "    }\n",
       "\n",
       "    .dataframe thead th {\n",
       "        text-align: right;\n",
       "    }\n",
       "</style>\n",
       "<table border=\"1\" class=\"dataframe\">\n",
       "  <thead>\n",
       "    <tr style=\"text-align: right;\">\n",
       "      <th></th>\n",
       "      <th>r2</th>\n",
       "      <th>rmse</th>\n",
       "    </tr>\n",
       "  </thead>\n",
       "  <tbody>\n",
       "    <tr>\n",
       "      <th>ti_cpi</th>\n",
       "      <td>0.729854</td>\n",
       "      <td>8.183054</td>\n",
       "    </tr>\n",
       "    <tr>\n",
       "      <th>bci_bci</th>\n",
       "      <td>0.546616</td>\n",
       "      <td>8.829555</td>\n",
       "    </tr>\n",
       "    <tr>\n",
       "      <th>ti_cpi_om</th>\n",
       "      <td>0.740563</td>\n",
       "      <td>0.884229</td>\n",
       "    </tr>\n",
       "    <tr>\n",
       "      <th>wbgi_cce</th>\n",
       "      <td>0.694517</td>\n",
       "      <td>0.464078</td>\n",
       "    </tr>\n",
       "  </tbody>\n",
       "</table>\n",
       "</div>"
      ],
      "text/plain": [
       "                 r2      rmse\n",
       "ti_cpi     0.729854  8.183054\n",
       "bci_bci    0.546616  8.829555\n",
       "ti_cpi_om  0.740563  0.884229\n",
       "wbgi_cce   0.694517  0.464078"
      ]
     },
     "metadata": {},
     "output_type": "display_data"
    }
   ],
   "source": [
    "rf_gridsearch_info_script(selected_features_dict, 'rf_grid_selected_features_dict')"
   ]
  },
  {
   "attachments": {},
   "cell_type": "markdown",
   "metadata": {},
   "source": [
    "For most indices the hyperparameter optimization does not seem to significantly improve the r2-scores. But for vdem_jucorrdc it seems to improve. For vdem_pubcorr and wbgi_cce the improvement is minor.\n",
    "\n",
    "The feature importance (figure) changes a lot more. Here we see for all but bci_bci that relatively wbgi_rle is not as important anymore. This is most likely due to the max_samples_features being log2 now. One could argue if the original model where wbgi_rle is the main feature is simpler and from the same quality or on the other side that other features are also able to replace wbgi_rle when combined."
   ]
  },
  {
   "cell_type": "code",
   "execution_count": 98,
   "metadata": {},
   "outputs": [
    {
     "name": "stdout",
     "output_type": "stream",
     "text": [
      "scores\n"
     ]
    },
    {
     "data": {
      "text/html": [
       "<div>\n",
       "<style scoped>\n",
       "    .dataframe tbody tr th:only-of-type {\n",
       "        vertical-align: middle;\n",
       "    }\n",
       "\n",
       "    .dataframe tbody tr th {\n",
       "        vertical-align: top;\n",
       "    }\n",
       "\n",
       "    .dataframe thead th {\n",
       "        text-align: right;\n",
       "    }\n",
       "</style>\n",
       "<table border=\"1\" class=\"dataframe\">\n",
       "  <thead>\n",
       "    <tr style=\"text-align: right;\">\n",
       "      <th></th>\n",
       "      <th>r2</th>\n",
       "      <th>rmse</th>\n",
       "    </tr>\n",
       "  </thead>\n",
       "  <tbody>\n",
       "    <tr>\n",
       "      <th>ti_cpi</th>\n",
       "      <td>0.703997</td>\n",
       "      <td>8.565723</td>\n",
       "    </tr>\n",
       "    <tr>\n",
       "      <th>bci_bci</th>\n",
       "      <td>0.530455</td>\n",
       "      <td>8.98555</td>\n",
       "    </tr>\n",
       "    <tr>\n",
       "      <th>ti_cpi_om</th>\n",
       "      <td>0.768536</td>\n",
       "      <td>0.8352</td>\n",
       "    </tr>\n",
       "    <tr>\n",
       "      <th>wbgi_cce</th>\n",
       "      <td>0.732704</td>\n",
       "      <td>0.434104</td>\n",
       "    </tr>\n",
       "  </tbody>\n",
       "</table>\n",
       "</div>"
      ],
      "text/plain": [
       "                 r2      rmse\n",
       "ti_cpi     0.703997  8.565723\n",
       "bci_bci    0.530455   8.98555\n",
       "ti_cpi_om  0.768536    0.8352\n",
       "wbgi_cce   0.732704  0.434104"
      ]
     },
     "metadata": {},
     "output_type": "display_data"
    }
   ],
   "source": [
    "rf_bf = rf_gridsearch_info_script(selected_features_union, 'rf_grid_selected_features_union')"
   ]
  },
  {
   "cell_type": "code",
   "execution_count": 99,
   "metadata": {},
   "outputs": [
    {
     "name": "stdout",
     "output_type": "stream",
     "text": [
      "feature importance\n"
     ]
    },
    {
     "data": {
      "text/html": [
       "<div>\n",
       "<style scoped>\n",
       "    .dataframe tbody tr th:only-of-type {\n",
       "        vertical-align: middle;\n",
       "    }\n",
       "\n",
       "    .dataframe tbody tr th {\n",
       "        vertical-align: top;\n",
       "    }\n",
       "\n",
       "    .dataframe thead th {\n",
       "        text-align: right;\n",
       "    }\n",
       "</style>\n",
       "<table border=\"1\" class=\"dataframe\">\n",
       "  <thead>\n",
       "    <tr style=\"text-align: right;\">\n",
       "      <th></th>\n",
       "      <th>ciri_injud_2.0</th>\n",
       "      <th>wel_scalezone_4.0</th>\n",
       "      <th>ihme_lifexp_0104t</th>\n",
       "      <th>cpds_chg_0.0</th>\n",
       "      <th>gd_ptss_1.0</th>\n",
       "      <th>fhp_status5_1.0</th>\n",
       "      <th>fh_pr_1.0</th>\n",
       "      <th>fh_status_1.0</th>\n",
       "      <th>cpds_lall_0.0</th>\n",
       "      <th>fh_cl_1.0</th>\n",
       "      <th>cpds_vper_0.0</th>\n",
       "      <th>kun_cluster_5.0</th>\n",
       "      <th>br_mon</th>\n",
       "      <th>fh_ipolity2</th>\n",
       "      <th>wel_sys_1.0</th>\n",
       "      <th>ihme_lifexp_0104m</th>\n",
       "    </tr>\n",
       "  </thead>\n",
       "  <tbody>\n",
       "    <tr>\n",
       "      <th>ti_cpi</th>\n",
       "      <td>0.0</td>\n",
       "      <td>0.0</td>\n",
       "      <td>0.15334</td>\n",
       "      <td>0.004825</td>\n",
       "      <td>0.052266</td>\n",
       "      <td>0.011238</td>\n",
       "      <td>0.165528</td>\n",
       "      <td>0.045034</td>\n",
       "      <td>0.039381</td>\n",
       "      <td>0.143951</td>\n",
       "      <td>0.031202</td>\n",
       "      <td>0.0</td>\n",
       "      <td>0.056827</td>\n",
       "      <td>0.150349</td>\n",
       "      <td>0.001345</td>\n",
       "      <td>0.144713</td>\n",
       "    </tr>\n",
       "    <tr>\n",
       "      <th>bci_bci</th>\n",
       "      <td>0.013009</td>\n",
       "      <td>0.004152</td>\n",
       "      <td>0.14338</td>\n",
       "      <td>0.001811</td>\n",
       "      <td>0.073026</td>\n",
       "      <td>0.0103</td>\n",
       "      <td>0.135026</td>\n",
       "      <td>0.005359</td>\n",
       "      <td>0.014911</td>\n",
       "      <td>0.112582</td>\n",
       "      <td>0.037757</td>\n",
       "      <td>0.025395</td>\n",
       "      <td>0.088233</td>\n",
       "      <td>0.180035</td>\n",
       "      <td>0.014296</td>\n",
       "      <td>0.140729</td>\n",
       "    </tr>\n",
       "    <tr>\n",
       "      <th>ti_cpi_om</th>\n",
       "      <td>0.026002</td>\n",
       "      <td>0.002294</td>\n",
       "      <td>0.117366</td>\n",
       "      <td>0.000488</td>\n",
       "      <td>0.017618</td>\n",
       "      <td>0.002103</td>\n",
       "      <td>0.184292</td>\n",
       "      <td>0.005171</td>\n",
       "      <td>0.030968</td>\n",
       "      <td>0.109597</td>\n",
       "      <td>0.044404</td>\n",
       "      <td>0.08605</td>\n",
       "      <td>0.038964</td>\n",
       "      <td>0.155704</td>\n",
       "      <td>0.102907</td>\n",
       "      <td>0.076071</td>\n",
       "    </tr>\n",
       "    <tr>\n",
       "      <th>wbgi_cce</th>\n",
       "      <td>0.00888</td>\n",
       "      <td>0.001526</td>\n",
       "      <td>0.126047</td>\n",
       "      <td>0.000182</td>\n",
       "      <td>0.046181</td>\n",
       "      <td>0.009161</td>\n",
       "      <td>0.254158</td>\n",
       "      <td>0.014801</td>\n",
       "      <td>0.043426</td>\n",
       "      <td>0.112754</td>\n",
       "      <td>0.085673</td>\n",
       "      <td>0.020112</td>\n",
       "      <td>0.03532</td>\n",
       "      <td>0.163803</td>\n",
       "      <td>0.010699</td>\n",
       "      <td>0.067278</td>\n",
       "    </tr>\n",
       "  </tbody>\n",
       "</table>\n",
       "</div>"
      ],
      "text/plain": [
       "          ciri_injud_2.0 wel_scalezone_4.0 ihme_lifexp_0104t cpds_chg_0.0  \\\n",
       "ti_cpi               0.0               0.0           0.15334     0.004825   \n",
       "bci_bci         0.013009          0.004152           0.14338     0.001811   \n",
       "ti_cpi_om       0.026002          0.002294          0.117366     0.000488   \n",
       "wbgi_cce         0.00888          0.001526          0.126047     0.000182   \n",
       "\n",
       "          gd_ptss_1.0 fhp_status5_1.0 fh_pr_1.0 fh_status_1.0 cpds_lall_0.0  \\\n",
       "ti_cpi       0.052266        0.011238  0.165528      0.045034      0.039381   \n",
       "bci_bci      0.073026          0.0103  0.135026      0.005359      0.014911   \n",
       "ti_cpi_om    0.017618        0.002103  0.184292      0.005171      0.030968   \n",
       "wbgi_cce     0.046181        0.009161  0.254158      0.014801      0.043426   \n",
       "\n",
       "          fh_cl_1.0 cpds_vper_0.0 kun_cluster_5.0    br_mon fh_ipolity2  \\\n",
       "ti_cpi     0.143951      0.031202             0.0  0.056827    0.150349   \n",
       "bci_bci    0.112582      0.037757        0.025395  0.088233    0.180035   \n",
       "ti_cpi_om  0.109597      0.044404         0.08605  0.038964    0.155704   \n",
       "wbgi_cce   0.112754      0.085673        0.020112   0.03532    0.163803   \n",
       "\n",
       "          wel_sys_1.0 ihme_lifexp_0104m  \n",
       "ti_cpi       0.001345          0.144713  \n",
       "bci_bci      0.014296          0.140729  \n",
       "ti_cpi_om    0.102907          0.076071  \n",
       "wbgi_cce     0.010699          0.067278  "
      ]
     },
     "metadata": {},
     "output_type": "display_data"
    },
    {
     "data": {
      "text/html": [
       "<div>\n",
       "<style scoped>\n",
       "    .dataframe tbody tr th:only-of-type {\n",
       "        vertical-align: middle;\n",
       "    }\n",
       "\n",
       "    .dataframe tbody tr th {\n",
       "        vertical-align: top;\n",
       "    }\n",
       "\n",
       "    .dataframe thead th {\n",
       "        text-align: right;\n",
       "    }\n",
       "</style>\n",
       "<table border=\"1\" class=\"dataframe\">\n",
       "  <thead>\n",
       "    <tr style=\"text-align: right;\">\n",
       "      <th></th>\n",
       "      <th>fh_pr_1.0</th>\n",
       "      <th>fh_ipolity2</th>\n",
       "      <th>ihme_lifexp_0104t</th>\n",
       "      <th>fh_cl_1.0</th>\n",
       "      <th>ihme_lifexp_0104m</th>\n",
       "      <th>br_mon</th>\n",
       "      <th>cpds_vper_0.0</th>\n",
       "      <th>gd_ptss_1.0</th>\n",
       "      <th>kun_cluster_5.0</th>\n",
       "      <th>wel_sys_1.0</th>\n",
       "      <th>cpds_lall_0.0</th>\n",
       "      <th>fh_status_1.0</th>\n",
       "      <th>ciri_injud_2.0</th>\n",
       "      <th>fhp_status5_1.0</th>\n",
       "      <th>wel_scalezone_4.0</th>\n",
       "      <th>cpds_chg_0.0</th>\n",
       "    </tr>\n",
       "  </thead>\n",
       "  <tbody>\n",
       "    <tr>\n",
       "      <th>ti_cpi</th>\n",
       "      <td>0.165528</td>\n",
       "      <td>0.150349</td>\n",
       "      <td>0.15334</td>\n",
       "      <td>0.143951</td>\n",
       "      <td>0.144713</td>\n",
       "      <td>0.056827</td>\n",
       "      <td>0.031202</td>\n",
       "      <td>0.052266</td>\n",
       "      <td>0.0</td>\n",
       "      <td>0.001345</td>\n",
       "      <td>0.039381</td>\n",
       "      <td>0.045034</td>\n",
       "      <td>0.0</td>\n",
       "      <td>0.011238</td>\n",
       "      <td>0.0</td>\n",
       "      <td>0.004825</td>\n",
       "    </tr>\n",
       "    <tr>\n",
       "      <th>bci_bci</th>\n",
       "      <td>0.135026</td>\n",
       "      <td>0.180035</td>\n",
       "      <td>0.14338</td>\n",
       "      <td>0.112582</td>\n",
       "      <td>0.140729</td>\n",
       "      <td>0.088233</td>\n",
       "      <td>0.037757</td>\n",
       "      <td>0.073026</td>\n",
       "      <td>0.025395</td>\n",
       "      <td>0.014296</td>\n",
       "      <td>0.014911</td>\n",
       "      <td>0.005359</td>\n",
       "      <td>0.013009</td>\n",
       "      <td>0.0103</td>\n",
       "      <td>0.004152</td>\n",
       "      <td>0.001811</td>\n",
       "    </tr>\n",
       "    <tr>\n",
       "      <th>ti_cpi_om</th>\n",
       "      <td>0.184292</td>\n",
       "      <td>0.155704</td>\n",
       "      <td>0.117366</td>\n",
       "      <td>0.109597</td>\n",
       "      <td>0.076071</td>\n",
       "      <td>0.038964</td>\n",
       "      <td>0.044404</td>\n",
       "      <td>0.017618</td>\n",
       "      <td>0.08605</td>\n",
       "      <td>0.102907</td>\n",
       "      <td>0.030968</td>\n",
       "      <td>0.005171</td>\n",
       "      <td>0.026002</td>\n",
       "      <td>0.002103</td>\n",
       "      <td>0.002294</td>\n",
       "      <td>0.000488</td>\n",
       "    </tr>\n",
       "    <tr>\n",
       "      <th>wbgi_cce</th>\n",
       "      <td>0.254158</td>\n",
       "      <td>0.163803</td>\n",
       "      <td>0.126047</td>\n",
       "      <td>0.112754</td>\n",
       "      <td>0.067278</td>\n",
       "      <td>0.03532</td>\n",
       "      <td>0.085673</td>\n",
       "      <td>0.046181</td>\n",
       "      <td>0.020112</td>\n",
       "      <td>0.010699</td>\n",
       "      <td>0.043426</td>\n",
       "      <td>0.014801</td>\n",
       "      <td>0.00888</td>\n",
       "      <td>0.009161</td>\n",
       "      <td>0.001526</td>\n",
       "      <td>0.000182</td>\n",
       "    </tr>\n",
       "  </tbody>\n",
       "</table>\n",
       "</div>"
      ],
      "text/plain": [
       "          fh_pr_1.0 fh_ipolity2 ihme_lifexp_0104t fh_cl_1.0 ihme_lifexp_0104m  \\\n",
       "ti_cpi     0.165528    0.150349           0.15334  0.143951          0.144713   \n",
       "bci_bci    0.135026    0.180035           0.14338  0.112582          0.140729   \n",
       "ti_cpi_om  0.184292    0.155704          0.117366  0.109597          0.076071   \n",
       "wbgi_cce   0.254158    0.163803          0.126047  0.112754          0.067278   \n",
       "\n",
       "             br_mon cpds_vper_0.0 gd_ptss_1.0 kun_cluster_5.0 wel_sys_1.0  \\\n",
       "ti_cpi     0.056827      0.031202    0.052266             0.0    0.001345   \n",
       "bci_bci    0.088233      0.037757    0.073026        0.025395    0.014296   \n",
       "ti_cpi_om  0.038964      0.044404    0.017618         0.08605    0.102907   \n",
       "wbgi_cce    0.03532      0.085673    0.046181        0.020112    0.010699   \n",
       "\n",
       "          cpds_lall_0.0 fh_status_1.0 ciri_injud_2.0 fhp_status5_1.0  \\\n",
       "ti_cpi         0.039381      0.045034            0.0        0.011238   \n",
       "bci_bci        0.014911      0.005359       0.013009          0.0103   \n",
       "ti_cpi_om      0.030968      0.005171       0.026002        0.002103   \n",
       "wbgi_cce       0.043426      0.014801        0.00888        0.009161   \n",
       "\n",
       "          wel_scalezone_4.0 cpds_chg_0.0  \n",
       "ti_cpi                  0.0     0.004825  \n",
       "bci_bci            0.004152     0.001811  \n",
       "ti_cpi_om          0.002294     0.000488  \n",
       "wbgi_cce           0.001526     0.000182  "
      ]
     },
     "metadata": {},
     "output_type": "display_data"
    },
    {
     "name": "stdout",
     "output_type": "stream",
     "text": [
      "\n",
      "feature importance rank\n"
     ]
    },
    {
     "data": {
      "text/html": [
       "<div>\n",
       "<style scoped>\n",
       "    .dataframe tbody tr th:only-of-type {\n",
       "        vertical-align: middle;\n",
       "    }\n",
       "\n",
       "    .dataframe tbody tr th {\n",
       "        vertical-align: top;\n",
       "    }\n",
       "\n",
       "    .dataframe thead th {\n",
       "        text-align: right;\n",
       "    }\n",
       "</style>\n",
       "<table border=\"1\" class=\"dataframe\">\n",
       "  <thead>\n",
       "    <tr style=\"text-align: right;\">\n",
       "      <th></th>\n",
       "      <th>ciri_injud_2.0</th>\n",
       "      <th>wel_scalezone_4.0</th>\n",
       "      <th>ihme_lifexp_0104t</th>\n",
       "      <th>cpds_chg_0.0</th>\n",
       "      <th>gd_ptss_1.0</th>\n",
       "      <th>fhp_status5_1.0</th>\n",
       "      <th>fh_pr_1.0</th>\n",
       "      <th>fh_status_1.0</th>\n",
       "      <th>cpds_lall_0.0</th>\n",
       "      <th>fh_cl_1.0</th>\n",
       "      <th>cpds_vper_0.0</th>\n",
       "      <th>kun_cluster_5.0</th>\n",
       "      <th>br_mon</th>\n",
       "      <th>fh_ipolity2</th>\n",
       "      <th>wel_sys_1.0</th>\n",
       "      <th>ihme_lifexp_0104m</th>\n",
       "    </tr>\n",
       "  </thead>\n",
       "  <tbody>\n",
       "    <tr>\n",
       "      <th>ti_cpi</th>\n",
       "      <td>&lt;NA&gt;</td>\n",
       "      <td>&lt;NA&gt;</td>\n",
       "      <td>2</td>\n",
       "      <td>12</td>\n",
       "      <td>7</td>\n",
       "      <td>11</td>\n",
       "      <td>1</td>\n",
       "      <td>8</td>\n",
       "      <td>9</td>\n",
       "      <td>5</td>\n",
       "      <td>10</td>\n",
       "      <td>&lt;NA&gt;</td>\n",
       "      <td>6</td>\n",
       "      <td>3</td>\n",
       "      <td>13</td>\n",
       "      <td>4</td>\n",
       "    </tr>\n",
       "    <tr>\n",
       "      <th>bci_bci</th>\n",
       "      <td>12</td>\n",
       "      <td>15</td>\n",
       "      <td>2</td>\n",
       "      <td>16</td>\n",
       "      <td>7</td>\n",
       "      <td>13</td>\n",
       "      <td>4</td>\n",
       "      <td>14</td>\n",
       "      <td>10</td>\n",
       "      <td>5</td>\n",
       "      <td>8</td>\n",
       "      <td>9</td>\n",
       "      <td>6</td>\n",
       "      <td>1</td>\n",
       "      <td>11</td>\n",
       "      <td>3</td>\n",
       "    </tr>\n",
       "    <tr>\n",
       "      <th>ti_cpi_om</th>\n",
       "      <td>11</td>\n",
       "      <td>14</td>\n",
       "      <td>3</td>\n",
       "      <td>16</td>\n",
       "      <td>12</td>\n",
       "      <td>15</td>\n",
       "      <td>1</td>\n",
       "      <td>13</td>\n",
       "      <td>10</td>\n",
       "      <td>4</td>\n",
       "      <td>8</td>\n",
       "      <td>6</td>\n",
       "      <td>9</td>\n",
       "      <td>2</td>\n",
       "      <td>5</td>\n",
       "      <td>7</td>\n",
       "    </tr>\n",
       "    <tr>\n",
       "      <th>wbgi_cce</th>\n",
       "      <td>14</td>\n",
       "      <td>15</td>\n",
       "      <td>3</td>\n",
       "      <td>16</td>\n",
       "      <td>7</td>\n",
       "      <td>13</td>\n",
       "      <td>1</td>\n",
       "      <td>11</td>\n",
       "      <td>8</td>\n",
       "      <td>4</td>\n",
       "      <td>5</td>\n",
       "      <td>10</td>\n",
       "      <td>9</td>\n",
       "      <td>2</td>\n",
       "      <td>12</td>\n",
       "      <td>6</td>\n",
       "    </tr>\n",
       "  </tbody>\n",
       "</table>\n",
       "</div>"
      ],
      "text/plain": [
       "           ciri_injud_2.0  wel_scalezone_4.0  ihme_lifexp_0104t  cpds_chg_0.0  \\\n",
       "ti_cpi               <NA>               <NA>                  2            12   \n",
       "bci_bci                12                 15                  2            16   \n",
       "ti_cpi_om              11                 14                  3            16   \n",
       "wbgi_cce               14                 15                  3            16   \n",
       "\n",
       "           gd_ptss_1.0  fhp_status5_1.0  fh_pr_1.0  fh_status_1.0  \\\n",
       "ti_cpi               7               11          1              8   \n",
       "bci_bci              7               13          4             14   \n",
       "ti_cpi_om           12               15          1             13   \n",
       "wbgi_cce             7               13          1             11   \n",
       "\n",
       "           cpds_lall_0.0  fh_cl_1.0  cpds_vper_0.0  kun_cluster_5.0  br_mon  \\\n",
       "ti_cpi                 9          5             10             <NA>       6   \n",
       "bci_bci               10          5              8                9       6   \n",
       "ti_cpi_om             10          4              8                6       9   \n",
       "wbgi_cce               8          4              5               10       9   \n",
       "\n",
       "           fh_ipolity2  wel_sys_1.0  ihme_lifexp_0104m  \n",
       "ti_cpi               3           13                  4  \n",
       "bci_bci              1           11                  3  \n",
       "ti_cpi_om            2            5                  7  \n",
       "wbgi_cce             2           12                  6  "
      ]
     },
     "metadata": {},
     "output_type": "display_data"
    },
    {
     "name": "stdout",
     "output_type": "stream",
     "text": [
      "\n",
      "Index(['fh_pr_1.0', 'fh_ipolity2', 'ihme_lifexp_0104t', 'fh_cl_1.0',\n",
      "       'ihme_lifexp_0104m', 'br_mon', 'cpds_vper_0.0', 'gd_ptss_1.0',\n",
      "       'kun_cluster_5.0', 'wel_sys_1.0', 'cpds_lall_0.0', 'fh_status_1.0',\n",
      "       'ciri_injud_2.0', 'fhp_status5_1.0', 'wel_scalezone_4.0',\n",
      "       'cpds_chg_0.0'],\n",
      "      dtype='object')\n"
     ]
    },
    {
     "data": {
      "image/png": "[encoded data removed]",
      "text/plain": [
       "<Figure size 2000x800 with 1 Axes>"
      ]
     },
     "metadata": {},
     "output_type": "display_data"
    },
    {
     "data": {
      "image/png": "[encoded data removed]",
      "text/plain": [
       "<Figure size 2000x800 with 1 Axes>"
      ]
     },
     "metadata": {},
     "output_type": "display_data"
    },
    {
     "data": {
      "image/png": "[encoded data removed]",
      "text/plain": [
       "<Figure size 2000x800 with 1 Axes>"
      ]
     },
     "metadata": {},
     "output_type": "display_data"
    }
   ],
   "source": [
    "\n",
    "f = open('pickle/rf_grid_selected_features_union.obj', 'rb')\n",
    "rf_bf = pickle.load(f)\n",
    "f.close()\n",
    "\n",
    "l_fi = [rf_bf[target]['feat_importance'] for target in corr_cols]\n",
    "df_fi = pd.concat(l_fi)\n",
    "l_firk = [rf_bf[target]['feat_importance_rank'] for target in corr_cols]\n",
    "df_firk = pd.concat(l_firk)\n",
    "l_params = [rf_bf[target]['params'] for target in corr_cols]\n",
    "df_params = pd.concat(l_params)\n",
    "\n",
    "print('feature importance')\n",
    "display(df_fi)\n",
    "\n",
    "\n",
    "df_sorted = df_fi.reindex(df_fi.mean().sort_values().index[::-1], axis=1)\n",
    "\n",
    "display(df_sorted)\n",
    "df_sorted.T.plot(kind='bar', figsize=(20,8))\n",
    "\n",
    "df_fi.T.plot(kind='bar', figsize=(20,8))\n",
    "print()\n",
    "\n",
    "print('feature importance rank')\n",
    "display(df_firk)\n",
    "print()\n",
    "print(df_sorted.columns)\n",
    "\n",
    "\n",
    "\n",
    "\n",
    "df_fi = df_fi.reindex(df_fi.mean().sort_values(ascending=False).index, axis=1)\n",
    "col_names = df_fi.columns\n",
    "df_fi = df_fi.T.melt(\n",
    "    ignore_index=False,\n",
    "    value_vars = ['ti_cpi', 'bci_bci', 'ti_cpi_om', 'wbgi_cce'],\n",
    "    value_name = 'feature_importance'\n",
    ").reset_index().rename(columns={'index': 'feature', 'variable': 'corruption_index'})\n",
    "\n",
    "plt.rcdefaults()\n",
    "font = {'family' : 'normal',\n",
    "    'size'   : 14}\n",
    "\n",
    "plt.rc('font', **font)\n",
    "plt.figure(figsize=(20,8))\n",
    "sns.barplot(df_fi, x='feature',  y='feature_importance', hue='corruption_index', palette='magma', width=0.6)\n",
    "plt.xticks(rotation=90)\n",
    "plt.legend(loc='upper right')\n",
    "plt.grid()"
   ]
  }
 ],
 "metadata": {
  "kernelspec": {
   "display_name": "dopp",
   "language": "python",
   "name": "python3"
  },
  "language_info": {
   "codemirror_mode": {
    "name": "ipython",
    "version": 3
   },
   "file_extension": ".py",
   "mimetype": "text/x-python",
   "name": "python",
   "nbconvert_exporter": "python",
   "pygments_lexer": "ipython3",
   "version": "3.10.6"
  },
  "orig_nbformat": 4,
  "vscode": {
   "interpreter": {
    "hash": "543aa23b88fc9de87e855576d5d47491130665cd749e56028ebe7cfa2e718f2a"
   }
  }
 },
 "nbformat": 4,
 "nbformat_minor": 2
}
